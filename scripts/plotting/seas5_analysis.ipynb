{
 "cells": [
  {
   "cell_type": "markdown",
   "metadata": {},
   "source": [
    "# Hindcast evaluation of SEAS5 over the tropical Pacific"
   ]
  },
  {
   "cell_type": "code",
   "execution_count": null,
   "metadata": {},
   "outputs": [],
   "source": [
    "import os\n",
    "import glob\n",
    "import numpy as np\n",
    "import pandas as pd\n",
    "import xarray as xr\n",
    "import matplotlib.pyplot as plt\n",
    "\n",
    "from hyblim.utils import metric, enso\n",
    "plt.style.use(\"../../paper.mplstyle\")\n"
   ]
  },
  {
   "cell_type": "markdown",
   "metadata": {},
   "source": [
    "## Load data"
   ]
  },
  {
   "cell_type": "code",
   "execution_count": null,
   "metadata": {},
   "outputs": [],
   "source": [
    "def get_staged_exp(datadir, pattern):\n",
    "    \"\"\"Get files matching the pattern in the datadir.\n",
    "\n",
    "    Args:\n",
    "    datadir: str\n",
    "        Directory where the hindcast files are stored.\n",
    "    pattern: str\n",
    "        Pattern to match the hindcast files. \n",
    "        e.g. 'ifis_ens_0_t2m_*' will match all files starting with 'ifis_ens_0_t2m_'.\n",
    "    \n",
    "    Returns:\n",
    "    ds: xarray.Dataset\n",
    "        Concatenated dataset with init_time as the new dimension\n",
    "    \"\"\"\n",
    "    full_pattern = os.path.join(datadir, pattern)\n",
    "    # Find all files matching the pattern\n",
    "    files = glob.glob(full_pattern)\n",
    "    # Extract dates from filenames and convert to datetime\n",
    "    init_dates = [pd.to_datetime(file.split('_')[-1][:8]) for file in files]\n",
    "\n",
    "    ds_list = []\n",
    "    for f in files:\n",
    "        tmp = xr.open_dataset(f)\n",
    "        # Replace time dimension with lag dimension i.e. 0 to len(time) \n",
    "        tmp = tmp.rename({'time': 'lag'})\n",
    "        tmp['lag'] = np.arange(1, len(tmp.lag)+1)\n",
    "        ds_list.append(tmp)\n",
    "\n",
    "    return xr.concat(ds_list, dim=pd.Index(init_dates, name='init_time')).sortby('init_time')\n",
    "\n",
    "stagedir = \"/ec/res4/scratch/ecm1922/cepdiag/seas/stage/\"\n",
    "# Target\n",
    "era5_target = get_staged_exp(stagedir, 'seas5_era5_0_sst_*')\n",
    "# Forecast\n",
    "seas5_ensemble = []\n",
    "for member in range(0,10):\n",
    "    seas5_ensemble.append(get_staged_exp(stagedir, f'seas5_ens_{member}_sst_*'))\n",
    "\n",
    "seas5_ensemble = xr.concat(seas5_ensemble, dim=pd.Index(range(0,10), name='member'))\n",
    "seas5_ensemble = seas5_ensemble.sel(init_time=era5_target.init_time)"
   ]
  },
  {
   "cell_type": "markdown",
   "metadata": {},
   "source": [
    "## Preprocess data"
   ]
  },
  {
   "cell_type": "code",
   "execution_count": null,
   "metadata": {},
   "outputs": [],
   "source": [
    "# Select Tropial Pacific region \n",
    "def select_tropics(ds, lsm):\n",
    "    ds = ds.rename({'longitude': 'lon', 'latitude': 'lat', 'init_time': 'time'})\n",
    "    ds= ds.interp_like(lsm, method='nearest')\n",
    "    ds = ds.where(lsm!=1, other=np.nan)\n",
    "    return ds\n",
    "\n",
    "lsm = xr.open_dataset(\"../../data/land_sea_mask_common.nc\")['lsm']\n",
    "seas5_ensemble = select_tropics(seas5_ensemble, lsm)\n",
    "era5_target = select_tropics(era5_target, lsm)"
   ]
  },
  {
   "cell_type": "code",
   "execution_count": null,
   "metadata": {},
   "outputs": [],
   "source": [
    "# Compute climatology\n",
    "climatology = era5_target['sst'].groupby('time.month').mean('time')\n",
    "era5_anomaly = era5_target['sst'].groupby('time.month') - climatology\n",
    "era5_target['ssta'] = era5_anomaly\n",
    "\n",
    "seas5_ensemble_anomaly = seas5_ensemble['sst'].groupby('time.month') - climatology\n",
    "seas5_ensemble['ssta'] = seas5_ensemble_anomaly\n"
   ]
  },
  {
   "cell_type": "markdown",
   "metadata": {},
   "source": [
    "## Compute scores"
   ]
  },
  {
   "cell_type": "code",
   "execution_count": null,
   "metadata": {},
   "outputs": [],
   "source": [
    "verification_per_gridpoint, verification_per_time, nino_indices = [], [], []\n",
    "for lag in seas5_ensemble.lag.values:\n",
    "    x_target = era5_target.sel(lag=lag)\n",
    "    x_hindcast = seas5_ensemble.sel(lag=lag)\n",
    "\n",
    "    print(f\"Compute metrics of lag={lag}!\", flush=True)\n",
    "    x_frcst_mean = x_hindcast.mean(dim='member')\n",
    "    x_frcst_std = x_hindcast.std(dim='member', ddof=1)\n",
    "    n_members = len(x_hindcast['member'])\n",
    "\n",
    "    # Compute metrics per gridpoint\n",
    "    grid_verif = metric.verification_metrics_per_gridpoint(\n",
    "        x_target, x_frcst_mean, x_frcst_std, n_members=n_members\n",
    "    )\n",
    "    grid_verif['lag'] = lag\n",
    "    verification_per_gridpoint.append(grid_verif)\n",
    "\n",
    "    # Compute metrics per time\n",
    "    time_verif = metric.verification_metrics_per_time(\n",
    "        x_target, x_frcst_mean, x_frcst_std, n_members=n_members\n",
    "    )\n",
    "    time_verif['lag'] = lag\n",
    "    verification_per_time.append(time_verif)\n",
    "\n",
    "    # Nino indices\n",
    "    nino_index = {\n",
    "        'target': enso.get_nino_indices(x_target['ssta']),\n",
    "        'frcst': enso.get_nino_indices(x_hindcast['ssta']),\n",
    "        'lag': lag\n",
    "    }\n",
    "    nino_indices.append(nino_index)\n",
    "\n",
    "grid_scores = metric.listofdicts_to_dictofxr(verification_per_gridpoint, dim_key='lag')\n",
    "time_scores = metric.listofdicts_to_dictofxr(verification_per_time, dim_key='lag')\n",
    "nino_ids = metric.listofdicts_to_dictofxr(nino_indices, dim_key='lag')\n"
   ]
  },
  {
   "cell_type": "markdown",
   "metadata": {},
   "source": [
    "## Plot temporal metrics"
   ]
  },
  {
   "cell_type": "code",
   "execution_count": null,
   "metadata": {},
   "outputs": [],
   "source": [
    "score_key = 'cc'\n",
    "fig, ax = plt.subplots(1, 1, figsize=(10, 5))\n",
    "score = time_scores[score_key]['ssta'].groupby('time.month').mean('time')\n",
    "ax.plot(score.lag, score.sel(month=5), marker='o', label='May')\n",
    "ax.plot(score.lag, score.sel(month=11), marker='o', label='Nov')\n",
    "ax.set_xlabel('Lead time (months)')\n",
    "ax.set_ylabel(score_key)\n",
    "ax.legend()"
   ]
  },
  {
   "cell_type": "code",
   "execution_count": null,
   "metadata": {},
   "outputs": [],
   "source": [
    "fig, ax = plt.subplots(1, 1, figsize=(7, 4))\n",
    "skill_spread = time_scores['spread_skill']['ssta'].groupby('time.month').mean('time')\n",
    "ax.plot(skill_spread.lag, skill_spread.sel(month=5), 'o-', label='May')\n",
    "ax.plot(skill_spread.lag, skill_spread.sel(month=11), 'o-', label='Nov')\n",
    "ax.legend()"
   ]
  },
  {
   "cell_type": "code",
   "execution_count": null,
   "metadata": {},
   "outputs": [],
   "source": [
    "for lag in [1, 3, 6, 12]:\n",
    "    spread = time_scores['spread']['ssta'].sel(lag=lag)\n",
    "    skill = time_scores['mse']['ssta'].sel(lag=lag)\n",
    "\n",
    "    fig, ax = plt.subplots(1, 1, figsize=(6, 3))\n",
    "    ax.scatter(spread.data, skill.data, label=f\"Lag {lag}\")\n"
   ]
  },
  {
   "cell_type": "markdown",
   "metadata": {},
   "source": [
    "## Nino indices"
   ]
  },
  {
   "cell_type": "code",
   "execution_count": null,
   "metadata": {},
   "outputs": [],
   "source": [
    "# Plot Nino indices\n",
    "nrows = len(nino_ids['target'].data_vars)\n",
    "fig, axs = plt.subplots(nrows, 1, figsize=(7, 3*nrows))\n",
    "\n",
    "for i, var in enumerate(nino_ids['target'].data_vars):\n",
    "    ax = axs[i]\n",
    "    nino_target = nino_ids['target'][var].sel(lag=1)\n",
    "    ax.plot(nino_target.time, nino_target, color='k', label='target')\n",
    "    for lag in [1, 6]:\n",
    "        nino_frcst = nino_ids['frcst'][var].sel(lag=lag)\n",
    "\n",
    "        dates = np.array(nino_target.time,dtype='datetime64[M]') + np.timedelta64(lag, 'M')\n",
    "        pl = ax.plot(dates, nino_frcst.mean('member'), label=f'lag={lag}')\n",
    "        ax.fill_between(nino_frcst.time, nino_frcst.mean('member') - nino_frcst.std('member'),\n",
    "                        nino_frcst.mean('member') + nino_frcst.std('member'), color=pl[0].get_color(), alpha=0.3)\n",
    "    ax.set_ylabel(var)\n"
   ]
  },
  {
   "cell_type": "code",
   "execution_count": null,
   "metadata": {},
   "outputs": [],
   "source": [
    "nino_scores, nino_scores_month = metric.time_series_score(nino_ids['frcst'], nino_ids['target'])"
   ]
  },
  {
   "cell_type": "code",
   "execution_count": null,
   "metadata": {},
   "outputs": [],
   "source": [
    "score_key = 'rmse'\n",
    "fig, ax = plt.subplots(1, 1, figsize=(10, 5))\n",
    "score = nino_scores[score_key]['nino34']\n",
    "ax.plot(score.lag, score, marker='o')\n",
    "ax.set_xlabel('Lead time (months)')\n",
    "ax.set_ylabel(score_key)\n",
    "ax.legend()"
   ]
  },
  {
   "cell_type": "code",
   "execution_count": null,
   "metadata": {},
   "outputs": [],
   "source": [
    "fig, ax = plt.subplots(1, 1, figsize=(7, 4))\n",
    "skill_spread = nino_scores_month['spread_skill']['nino34']\n",
    "ax.plot(skill_spread.lag, skill_spread.sel(month=5), 'o-', label='May')\n",
    "ax.plot(skill_spread.lag, skill_spread.sel(month=11), 'o-', label='Nov')\n",
    "skill_spread = nino_scores['spread_skill']['nino34']\n",
    "ax.plot(skill_spread.lag, skill_spread, 'o-', label='All')\n",
    "ax.legend()\n",
    "ax.axhline(1.0, color='k', linestyle='--')\n",
    "ax.set_ylim(0, 1.2)"
   ]
  },
  {
   "cell_type": "code",
   "execution_count": null,
   "metadata": {},
   "outputs": [],
   "source": [
    "import seaborn as sns\n",
    "lag_arr = [6, 12]\n",
    "nrows = len(lag_arr)\n",
    "fig, axs = plt.subplots(1, nrows, figsize=(5*nrows, 3))\n",
    "for i, lag in enumerate(lag_arr):\n",
    "    ax = axs[i]\n",
    "    spread = nino_ids['frcst'].sel(lag=lag).std(dim='member') \n",
    "    skill = np.abs(nino_ids['frcst'].sel(lag=lag).mean(dim='member') - nino_ids['target'].sel(lag=lag))\n",
    "\n",
    "    ax.plot(spread['nino34'].values, skill['nino34'].values, '.', markersize=5, color='darkblue', label=rf\"SEAS5 ($\\tau$={lag})\")\n",
    "    sns.kdeplot(x=spread['nino34'].values, y=skill['nino34'].values, ax=ax,\n",
    "            alpha=0.7, fill=True, cmap='Blues')\n",
    "\n",
    "    ax.legend()\n",
    "    ax.set_xlabel('Spread')\n",
    "    ax.set_ylabel('Skill (RMSE)')\n",
    "    ax.set_ylim(0, 2.2)\n"
   ]
  },
  {
   "cell_type": "markdown",
   "metadata": {},
   "source": [
    "## High low skill examples"
   ]
  },
  {
   "cell_type": "code",
   "execution_count": null,
   "metadata": {},
   "outputs": [],
   "source": [
    "lag = 10\n",
    "percentiles = [95, 100]\n",
    "skill = np.abs(nino_ids['frcst']['nino34'].sel(lag=lag).mean(dim='member') - nino_ids['target']['nino34'].sel(lag=lag))\n",
    "\n",
    "ids_init_time = np.where(\n",
    "    (nino_ids['target']['nino34'].sel(lag=1) > 0.5) &\n",
    "    (skill.data >= np.percentile(skill, percentiles[0]))\n",
    "    & (skill.data <= np.percentile(skill, percentiles[1]))\n",
    ")[0]\n",
    "ids_init_time\n"
   ]
  },
  {
   "cell_type": "code",
   "execution_count": null,
   "metadata": {},
   "outputs": [],
   "source": [
    "fig, ax = plt.subplots(1, 1, figsize=(6, 4))\n",
    "idx = ids_init_time[1]\n",
    "frcst = nino_ids['frcst']['nino34'].isel(time=idx)\n",
    "target = nino_ids['target']['nino34'].isel(time=idx)\n",
    "\n",
    "ax.plot(frcst.lag, frcst, '--', color='darkblue', alpha=0.5, linewidth=0.5)\n",
    "ax.plot(frcst.lag, frcst.mean('member'), '-o', color='darkblue', label='SEAS5', markersize=4)\n",
    "ax.fill_between(frcst.lag, frcst.mean('member') - frcst.std('member'), frcst.mean('member') + frcst.std('member'), color='darkblue', alpha=0.3)\n",
    "ax.plot(target.lag, target, '-', color='k', markersize=5, label='ERA5')\n",
    "\n",
    "ax.set_xlabel('Lead time (months)')\n",
    "ax.set_ylabel('Nino 3.4 index')\n",
    "ax.legend(loc='lower left')\n",
    "ax.axhline(0.0, color='gray', linestyle='--')\n",
    "ax.set_ylim(-2.5, 2.5)\n",
    "# Init time as string: yyyy-mm-dd\n",
    "ax.set_title(f\"{frcst.time.values.astype('datetime64[D]')}\")\n",
    "\n",
    "\n",
    "\n"
   ]
  },
  {
   "cell_type": "code",
   "execution_count": null,
   "metadata": {},
   "outputs": [],
   "source": [
    "import hyblim.geoplot as gpl\n",
    "import cartopy as ctp\n",
    "pltargs = {'ssta': dict(vmin=-3, vmax=3, eps=0.5, cmap='RdBu_r', centercolor='white'),\n",
    "           'ssha': dict(kwargs_pl={'colors':'k', 'levels' :[-2.5, -1.25, 1.25, 2.5], \n",
    "                            'linewidths': 1}, zerolinecolor=None, add_inline_labels=False)}\n",
    "# Optimal initial pattern\n",
    "date = '2009-11-01'\n",
    "x_map = era5_target['ssta'].sel(time=date, lag=1)\n",
    "fig = plt.figure(figsize=(6, 4))\n",
    "ax = fig.add_subplot(2,1,1, projection=ctp.crs.PlateCarree(central_longitude=180))\n",
    "im = gpl.plot_map(x_map, ax=ax, \n",
    "                  **pltargs['ssta'], add_bar=True,\n",
    "                  kwargs_cb=dict(label=\"SSTA\", orientation='vertical')\n",
    ")\n",
    "ax.set_title(date)"
   ]
  },
  {
   "cell_type": "code",
   "execution_count": null,
   "metadata": {},
   "outputs": [],
   "source": []
  }
 ],
 "metadata": {
  "kernelspec": {
   "display_name": ".venv",
   "language": "python",
   "name": "python3"
  },
  "language_info": {
   "codemirror_mode": {
    "name": "ipython",
    "version": 3
   },
   "file_extension": ".py",
   "mimetype": "text/x-python",
   "name": "python",
   "nbconvert_exporter": "python",
   "pygments_lexer": "ipython3",
   "version": "3.11.8"
  }
 },
 "nbformat": 4,
 "nbformat_minor": 2
}
