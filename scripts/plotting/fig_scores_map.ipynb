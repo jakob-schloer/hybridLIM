{
 "cells": [
  {
   "attachments": {},
   "cell_type": "markdown",
   "metadata": {},
   "source": [
    "# Plot scores per gridpoint"
   ]
  },
  {
   "cell_type": "code",
   "execution_count": null,
   "metadata": {},
   "outputs": [],
   "source": [
    "import yaml\n",
    "import xarray as xr\n",
    "import matplotlib.pyplot as plt\n",
    "import cartopy as ctp\n",
    "\n",
    "import hyblim.geoplot as gpl\n",
    "plt.style.use(\"../../paper.mplstyle\")\n",
    "\n",
    "def get_model_specs_by_name(experiments, exp_name):\n",
    "    for exp in experiments:\n",
    "        if exp['name'] == exp_name:\n",
    "            return exp \n",
    "    return None\n",
    "\n",
    "# Load list of experiments\n",
    "with open(\"experiments.yaml\", \"r\") as f:\n",
    "    config = yaml.safe_load(f)\n",
    "    experiment_coll = config['experiments']"
   ]
  },
  {
   "cell_type": "markdown",
   "metadata": {},
   "source": [
    "## Load score"
   ]
  },
  {
   "cell_type": "code",
   "execution_count": null,
   "metadata": {},
   "outputs": [],
   "source": [
    "experiments = ['LIM', 'LSTM', 'LIM+LSTM']\n",
    "datasplit = 'test'\n",
    "scorekey = 'crpss'\n",
    "\n",
    "score_dict = {}\n",
    "for exp_name in experiments:\n",
    "    nino_scores_exp, nino_scores_month_exp, num_traindata = [], [], []\n",
    "    exp = get_model_specs_by_name(experiment_coll, f\"{exp_name}\")\n",
    "    if exp is None:\n",
    "        print(f\"Experiment {exp_name} not found\")\n",
    "        continue\n",
    "    score_map = xr.open_dataset(exp['paths'][0] + f'/metrics/gridscore_{scorekey}_{datasplit}.nc')\n",
    "    score_dict[exp_name] = score_map"
   ]
  },
  {
   "cell_type": "markdown",
   "metadata": {},
   "source": [
    "## Plot score"
   ]
  },
  {
   "cell_type": "code",
   "execution_count": null,
   "metadata": {},
   "outputs": [],
   "source": [
    "# Plotting\n",
    "lag = 9\n",
    "vars = ['ssta', 'ssha']\n",
    "plparam  = {\n",
    "    'mse' : {'ssta': dict(cmap='plasma', vmin=0, vmax=1.5, eps=0.25),\n",
    "             'ssha': dict(cmap='plasma', vmin=0, vmax=150, eps=10)},\n",
    "    'rmsess' : {'ssta': dict(cmap='plasma_r', vmin=-.1, vmax=.9, eps=0.1),\n",
    "                    'ssha': dict(cmap='plasma_r', vmin=-.1, vmax=.9, eps=0.1)},\n",
    "    'cc' : {'ssta': dict(cmap='RdBu_r', vmin=-1, vmax=1, eps=0.1, centercolor=\"#FFFFFF\"),\n",
    "            'ssha': dict(cmap='RdBu_r', vmin=-1, vmax=1, eps=0.1, centercolor=\"#FFFFFF\")},\n",
    "    'crpss' : {'ssta': dict(cmap='viridis', vmin=0, vmax=.5, eps=0.05),\n",
    "              'ssha': dict(cmap='viridis', vmin=0, vmax=1.0, eps=.1)},\n",
    "}\n",
    "\n",
    "\n",
    "ncols = len(vars)\n",
    "nrows = len(experiments)\n",
    "fig = plt.figure(figsize=(ncols*5, nrows*2.5))\n",
    "\n",
    "for j, var in enumerate(vars):\n",
    "    for i, exp_name in enumerate(experiments):\n",
    "        score = score_dict[exp_name][var]\n",
    "        ax = fig.add_subplot(nrows, ncols, i*ncols+j+1, projection=ctp.crs.PlateCarree(central_longitude=180))\n",
    "        im = gpl.plot_map(score.sel(lag=lag), ax=ax, **plparam[scorekey][var], add_bar=False)\n",
    "\n",
    "        if i == 0:\n",
    "            ax.set_title(f\"{var}\")\n",
    "        if j == 0:\n",
    "            ax.text(-0.2, 0.55, f\"{exp_name}\", va='bottom', ha='center',\n",
    "                    rotation='vertical', rotation_mode='anchor',\n",
    "                    transform=ax.transAxes)\n",
    "        \n",
    "    # Colorbar under each column\n",
    "    axwidth = ax.get_position().width\n",
    "    cbar_ax = fig.add_axes([ 0.5 * axwidth + j * (axwidth*1.3), -0.01, 0.8*axwidth, 0.02])\n",
    "    cb = fig.colorbar(im['im'], cax=cbar_ax, orientation='horizontal', extend='both')\n",
    "    cb.set_label(label=rf\"{scorekey} {vars[j]}\")\n",
    "\n",
    "# Title\n",
    "fig.suptitle(rf\"$\\tau$ = {lag}\")\n"
   ]
  },
  {
   "cell_type": "code",
   "execution_count": null,
   "metadata": {},
   "outputs": [],
   "source": []
  }
 ],
 "metadata": {
  "kernelspec": {
   "display_name": "Python 3.9.13 ('vaeenv')",
   "language": "python",
   "name": "python3"
  },
  "language_info": {
   "codemirror_mode": {
    "name": "ipython",
    "version": 3
   },
   "file_extension": ".py",
   "mimetype": "text/x-python",
   "name": "python",
   "nbconvert_exporter": "python",
   "pygments_lexer": "ipython3",
   "version": "3.11.8"
  },
  "vscode": {
   "interpreter": {
    "hash": "cd1f84a93514db3fb3689a6c2d4c248cfb632ba5f8c260d8b9cf936021326503"
   }
  }
 },
 "nbformat": 4,
 "nbformat_minor": 2
}
