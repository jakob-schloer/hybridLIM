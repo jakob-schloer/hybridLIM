{
 "cells": [
  {
   "attachments": {},
   "cell_type": "markdown",
   "metadata": {},
   "source": [
    "# Compare models on Nino indices"
   ]
  },
  {
   "cell_type": "code",
   "execution_count": null,
   "metadata": {},
   "outputs": [],
   "source": [
    "import os, torch, nc_time_axis, yaml\n",
    "from importlib import reload\n",
    "import numpy as np\n",
    "import xarray as xr\n",
    "import pandas as pd\n",
    "import matplotlib as mpl\n",
    "import matplotlib.pyplot as plt\n",
    "import cartopy as ctp\n",
    "from tqdm import tqdm\n",
    "from joblib import Parallel, delayed, parallel_backend\n",
    "\n",
    "import hyblim.geoplot as gpl\n",
    "from hyblim.utils import metric\n",
    "\n",
    "plt.style.use(\"../../paper.mplstyle\")\n",
    "\n",
    "def get_model_specs_by_name(experiments, exp_name):\n",
    "    for exp in experiments:\n",
    "        if exp['name'] == exp_name:\n",
    "            return exp \n",
    "    return None\n",
    "\n",
    "# Load list of experiments\n",
    "with open(\"experiments.yaml\", \"r\") as f:\n",
    "    experiments = yaml.safe_load(f)"
   ]
  },
  {
   "cell_type": "code",
   "execution_count": null,
   "metadata": {},
   "outputs": [],
   "source": [
    "load_experiments = ['LIM', 'LSTM', 'LIM+LSTM']\n",
    "datasplit = 'test'\n",
    "\n",
    "\n",
    "nino_scores, nino_scores_month = {}, {}\n",
    "for exp_name in load_experiments:\n",
    "    nino_scores_exp, nino_scores_month_exp, num_traindata = [], [], []\n",
    "    exp = get_model_specs_by_name(experiments, f\"{exp_name}\")\n",
    "    if exp is None:\n",
    "        print(f\"Experiment {exp_name} not found\")\n",
    "        continue\n",
    "    nino_frcst = xr.open_dataset(exp['paths'][0] + '/metrics/nino_frcst_test.nc').transpose('time', 'member', 'lag')\n",
    "    nino_target = xr.open_dataset(exp['paths'][0] + '/metrics/nino_target_test.nc').transpose('time','lag')\n",
    "\n",
    "    nino_scores[exp_name], nino_scores_month[exp_name] = metric.time_series_score(nino_frcst, nino_target)"
   ]
  },
  {
   "attachments": {},
   "cell_type": "markdown",
   "metadata": {},
   "source": [
    "## Plot skill score averaged over all months"
   ]
  },
  {
   "cell_type": "code",
   "execution_count": null,
   "metadata": {},
   "outputs": [],
   "source": [
    "# Line plots \n",
    "reload(gpl)\n",
    "model_name = [\"LIM\", \"LSTM\", \"LIM+LSTM\"] \n",
    "scores = ['rmsess', 'crpss']\n",
    "idx_name = 'nino4'\n",
    "plot_mean = True\n",
    "ncols = len(scores)\n",
    "\n",
    "\n",
    "fig, axs = plt.subplots(1, ncols, figsize=(7, 3.0),\n",
    "                        sharex=True, sharey=True)\n",
    "\n",
    "for i, score_name in enumerate(scores):\n",
    "    for j, model in enumerate(model_name):\n",
    "        ax = axs[i] if len(scores)>1 else axs\n",
    "\n",
    "        score = nino_scores[model][score_name][idx_name]\n",
    "\n",
    "        ax.plot(score['lag'], score, '-o', label=model)\n",
    "\n",
    "        ax.set_xlabel(r'$\\tau$ [months]')\n",
    "        ax.set_ylabel(score_name)\n",
    "        ax.axhline(0.0, color='k', linestyle='--')\n",
    "\n",
    "    if i ==0:\n",
    "        ax.legend(fontsize='small')\n",
    "    \n",
    "\n",
    "ax = axs[-1] if len(scores)>1 else axs\n",
    "ax.set_ylim(-.1, 0.95)\n",
    "_ = ax.set_xticks(score['lag'])\n",
    "\n",
    "#gpl.enumerate_axes(axs, pos_x=0.01, pos_y=1.1, fontsize='medium')"
   ]
  },
  {
   "attachments": {},
   "cell_type": "markdown",
   "metadata": {},
   "source": [
    "## Plot skill over months"
   ]
  },
  {
   "cell_type": "code",
   "execution_count": null,
   "metadata": {},
   "outputs": [],
   "source": [
    "# Plot skill score\n",
    "metrickey = 'rmsess'\n",
    "pltspec = {\n",
    "    'crpss' : dict(cmap='plasma_r', vmin=0, vmax=0.6),\n",
    "    'rmsess' : dict(cmap='plasma', vmin=0, vmax=0.9),\n",
    "}\n",
    "ids_name = ['nino5', 'nino4', 'nino3', 'nino12']\n",
    "nrows = len(model_name)\n",
    "ncols = len(ids_name)\n",
    "\n",
    "fig, axs = plt.subplots(nrows, ncols,\n",
    "                        figsize=(ncols*3, nrows*2.5),\n",
    "                        sharex=True, sharey=True)\n",
    "\n",
    "for i, modelkey in enumerate(model_name):\n",
    "    for j, nino_idx in enumerate(ids_name):\n",
    "        ax = axs[i, j] if nrows > 1 else axs[j]\n",
    "        score = nino_scores_month[modelkey][metrickey][nino_idx]\n",
    "        im = ax.contourf(score['lag'], score['month'], score.data,\n",
    "                         **pltspec[metrickey])\n",
    "        ax.set_yticks(score['month'])\n",
    "        ax.set_xticks(score['lag'])\n",
    "\n",
    "        if i == nrows-1:\n",
    "            ax.set_xlabel(rf\"$\\tau$\")\n",
    "        if i ==0:\n",
    "            ax.set_title(rf\"{nino_idx}\")\n",
    "        if j == 0:\n",
    "            ax.set_yticklabels(['J', 'F', 'M', 'A', 'M', 'J', 'J', 'A', 'S', 'O', 'N', 'D'])\n",
    "            ax.set_ylabel(f\"{modelkey}\")\n",
    "\n",
    "cbar_ax = fig.add_axes([1, .2, 0.01, 0.55])\n",
    "fig.colorbar(im, cax=cbar_ax, orientation='vertical', extend='max', label=rf\"{metrickey}\")"
   ]
  },
  {
   "attachments": {},
   "cell_type": "markdown",
   "metadata": {},
   "source": [
    "### Score differences per month"
   ]
  },
  {
   "cell_type": "code",
   "execution_count": null,
   "metadata": {},
   "outputs": [],
   "source": [
    "# Compare all to one skill score\n",
    "reload(gpl)\n",
    "model_ctrl = \"LIM\"\n",
    "model_name = [\"LSTM\", \"LIM+LSTM\"]\n",
    "metrickey = 'rmsess'\n",
    "ids_name = ['nino5', 'nino4', 'nino3', 'nino12']\n",
    "plparam = {\n",
    "    'rmsess': dict(cmap='RdBu_r', vmin=-.2, vmax=.2, eps=0.02, centercolor=\"#FFFFFF\"),\n",
    "    'crpsss': dict(cmap='RdBu', vmin=-0.1, vmax = 0.1, eps=0.01, centercolor=\"#FFFFFF\"),\n",
    "}\n",
    "alpha = 0.05 # Statistical significance level\n",
    "\n",
    "nrows = len(model_name)\n",
    "ncols = len(ids_name)\n",
    "fig, axs = plt.subplots(nrows, len(ids_name), \n",
    "                        figsize=(ncols*3, nrows*2.5),\n",
    "                        sharex=True, sharey=True)\n",
    "\n",
    "for i, modelkey in enumerate(model_name):\n",
    "    for j, nino_idx in enumerate(ids_name):\n",
    "        score_model = nino_scores_month[modelkey][metrickey][nino_idx]\n",
    "        score_ctrl = nino_scores_month[model_ctrl][metrickey][nino_idx]\n",
    "        skill_diff = (score_model - score_ctrl)\n",
    "\n",
    "        ax = axs[i, j] if nrows > 1 else axs[j]\n",
    "        im = gpl.plot_matrix(skill_diff, 'lag', 'month', ax=ax,\n",
    "                             bar='discrete', add_bar=False, **plparam[metrickey])\n",
    "\n",
    "        ax.set_yticks(skill_diff['month'])\n",
    "        ax.set_xticks(skill_diff['lag'])\n",
    "\n",
    "        if i ==0:\n",
    "            ax.set_title(rf\"{nino_idx}\")\n",
    "        if j == 0:\n",
    "            ax.set_yticklabels(['J', 'F', 'M', 'A', 'M', 'J', 'J', 'A', 'S', 'O', 'N', 'D'])\n",
    "            #ax.set_ylabel(\"init. month\" if key=='skill_init_month' else 'verif. month')\n",
    "            ax.set_ylabel(rf\"{modelkey}\", fontsize=12)\n",
    "        if i == nrows-1:\n",
    "            ax.set_xlabel(r\"$\\tau$\")\n",
    "\n",
    "cbar_ax = fig.add_axes([1, .2, 0.01, 0.6])\n",
    "fig.colorbar(im['im'], cax=cbar_ax, orientation='vertical', extend='both', label=rf\"$\\Delta$ {metrickey}\")"
   ]
  }
 ],
 "metadata": {
  "kernelspec": {
   "display_name": "Python 3.9.13 ('vaeenv')",
   "language": "python",
   "name": "python3"
  },
  "language_info": {
   "codemirror_mode": {
    "name": "ipython",
    "version": 3
   },
   "file_extension": ".py",
   "mimetype": "text/x-python",
   "name": "python",
   "nbconvert_exporter": "python",
   "pygments_lexer": "ipython3",
   "version": "3.11.8"
  },
  "orig_nbformat": 4,
  "vscode": {
   "interpreter": {
    "hash": "cd1f84a93514db3fb3689a6c2d4c248cfb632ba5f8c260d8b9cf936021326503"
   }
  }
 },
 "nbformat": 4,
 "nbformat_minor": 2
}
