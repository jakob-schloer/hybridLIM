{
 "cells": [
  {
   "cell_type": "markdown",
   "metadata": {},
   "source": [
    "# Scores per gridpoint"
   ]
  },
  {
   "cell_type": "code",
   "execution_count": 1,
   "metadata": {},
   "outputs": [],
   "source": [
    "import os, nc_time_axis\n",
    "import numpy as np\n",
    "import xarray as xr\n",
    "import pandas as pd\n",
    "import matplotlib as mpl\n",
    "import matplotlib.pyplot as plt\n",
    "import cartopy as ctp\n",
    "\n",
    "import hyblim.geoplot as gpl\n",
    "\n",
    "plt.style.use(\"../../paper.mplstyle\")"
   ]
  },
  {
   "cell_type": "code",
   "execution_count": null,
   "metadata": {},
   "outputs": [],
   "source": [
    "model_dict = {\n",
    "    # LIM\n",
    "    'LIM':{\n",
    "        'paths': [\"../../output/lim/cslim_ssta-ssha/metrics.pt\"],\n",
    "        'pltattr': dict(marker='o', color='darkblue'),\n",
    "    },\n",
    "\n",
    "    # SwinLSTM\n",
    "#    'CS-SwinLSTM':{ \n",
    "#     'paths': [\n",
    "#         '../../output/swinlstm/SwinLSTM_g0.65-crps_hist4_horiz16_latent128_cosinelr0.001-1e-06_bs96/metrics.pt',\n",
    "#        ],\n",
    "#     'pltattr': dict(marker='x', color='seagreen'),\n",
    "#    },\n",
    "\n",
    "    # CS-LSTM\n",
    "#    'CS-LSTM':{\n",
    "#        'paths': [\"../../output/lstm/CSLSTM_eof_20_g0.65-crps_member16_nhist_4_nhoriz_16_layers_1_latent64_cosinelr0.01-5e-06_bs64/metrics.pt\"],\n",
    "#        'pltattr': dict(marker='+', color='orange'),\n",
    "#    },\n",
    "#    'CS-LSTM (oras5)':{\n",
    "#        'paths': [\"../../output/lstm/CSLSTM_eof_20_g0.65-crps_member16_nhist_4_nhoriz_16_layers_1_latent64_cosinelr0.01-5e-06_bs64/metrics_oras5.pt\"],\n",
    "#        'pltattr': dict(marker='+', color='darkred'),\n",
    "#    },\n",
    "\n",
    "    # CS-LIM + FiLM-LSTM\n",
    "    'CS-LIM+LSTM':{\n",
    "     'paths': [\n",
    "        #'../../output/lim+lstm/LIM-LSTM_eof_20_g0.65-crps_member16_nhoriz_16_layers_1_latent64_cosinelr0.0005-5e-06_bs64/metrics.pt',\n",
    "        '../../output/lim+lstm/LIM-FiLMLSTM_eof_20_g0.65-crps_member16_nhoriz_16_layers_1_latent64_cosinelr0.0005-5e-06_bs64/metrics.pt'\n",
    "     ],\n",
    "     'pltattr': dict(marker='s', color='darkred'),\n",
    "    },\n",
    "\n",
    "}"
   ]
  }
 ],
 "metadata": {
  "kernelspec": {
   "display_name": ".venv",
   "language": "python",
   "name": "python3"
  },
  "language_info": {
   "codemirror_mode": {
    "name": "ipython",
    "version": 3
   },
   "file_extension": ".py",
   "mimetype": "text/x-python",
   "name": "python",
   "nbconvert_exporter": "python",
   "pygments_lexer": "ipython3",
   "version": "3.11.8"
  }
 },
 "nbformat": 4,
 "nbformat_minor": 2
}
