{
 "cells": [
  {
   "attachments": {},
   "cell_type": "markdown",
   "metadata": {},
   "source": [
    "# Scores computed on the nino indices over the number of training data"
   ]
  },
  {
   "cell_type": "code",
   "execution_count": null,
   "metadata": {},
   "outputs": [],
   "source": [
    "import os, torch, nc_time_axis, yaml\n",
    "import numpy as np\n",
    "import xarray as xr\n",
    "import pandas as pd\n",
    "import matplotlib as mpl\n",
    "import matplotlib.pyplot as plt\n",
    "import cartopy as ctp\n",
    "from importlib import reload\n",
    "import hyblim.geoplot as gpl\n",
    "from hyblim.utils import metric\n",
    "\n",
    "plt.style.use(\"../../paper.mplstyle\")\n",
    "\n",
    "def get_model_specs_by_name(experiments, exp_name):\n",
    "    for exp in experiments:\n",
    "        if exp['name'] == exp_name:\n",
    "            return exp \n",
    "    return None\n",
    "\n",
    "def find_files_in_subdir(rootfolder, name='nino_indices.pt'):\n",
    "    \"\"\"Find files in subdirectories.\n",
    "\n",
    "    Args:\n",
    "        rootfolder (str): Root folder to start search.\n",
    "        name (str, optional): Name of file to search for. Defaults to 'nino_indices.pt'.\n",
    "    Returns:\n",
    "        list: List of files with given name.\n",
    "    \"\"\"\n",
    "    file_list = []\n",
    "    for dirpath, dirnames, filenames in os.walk(rootfolder):\n",
    "        for filename in filenames:\n",
    "            if filename == name:\n",
    "                file_list.append(os.path.join(dirpath, filename))\n",
    "    return file_list \n",
    "\n",
    "# Load list of experiments\n",
    "with open(\"experiments.yaml\", \"r\") as f:\n",
    "    experiments = yaml.safe_load(f)"
   ]
  },
  {
   "cell_type": "markdown",
   "metadata": {},
   "source": [
    "## Load nino-indices of experiments and compute score "
   ]
  },
  {
   "cell_type": "code",
   "execution_count": null,
   "metadata": {},
   "outputs": [],
   "source": [
    "load_experiments = ['LIM', 'LSTM', 'LIM+LSTM']\n",
    "datasplit = 'test'\n",
    "num_data = [600, 1200, 2400, 3600, 6000, 12000, 18000]\n",
    "\n",
    "\n",
    "nino_scores, nino_scores_month = {}, {}\n",
    "for exp_name in load_experiments:\n",
    "    nino_scores_exp, nino_scores_month_exp, num_traindata = [], [], []\n",
    "    for n_data in num_data:\n",
    "        exp = get_model_specs_by_name(experiments, f\"{exp_name} (n{n_data})\")\n",
    "        if exp is None:\n",
    "            print(f\"Experiment {exp_name} (n{n_data}) not found\")\n",
    "            continue\n",
    "        nino_frcst = xr.open_dataset(exp['paths'][0] + '/metrics/nino_frcst_test.nc').transpose('time', 'member', 'lag')\n",
    "        nino_target = xr.open_dataset(exp['paths'][0] + '/metrics/nino_target_test.nc').transpose('time','lag')\n",
    "\n",
    "        nino_scores_ndata, nino_scores_month_ndata = metric.time_series_score(nino_frcst, nino_target)\n",
    "        nino_scores_exp.append(nino_scores_ndata)\n",
    "        nino_scores_month_exp.append(nino_scores_month_ndata)\n",
    "        num_traindata.append(n_data)\n",
    "\n",
    "    # Merge number of data\n",
    "    nino_scores_exp = metric.listofdicts_to_dictoflists(nino_scores_exp)\n",
    "    nino_scores_month_exp = metric.listofdicts_to_dictoflists(nino_scores_month_exp)\n",
    "    nino_scores[exp_name] = {key: xr.concat(values, dim=pd.Index(num_traindata, name='ndata')) for key, values in nino_scores_exp.items()} \n",
    "    nino_scores_month[exp_name] = {key: xr.concat(values, dim=pd.Index(num_traindata, name='ndata')) for key, values in nino_scores_month_exp.items()} \n"
   ]
  },
  {
   "cell_type": "markdown",
   "metadata": {},
   "source": [
    "## Plot score over number of training data"
   ]
  },
  {
   "cell_type": "code",
   "execution_count": null,
   "metadata": {},
   "outputs": [],
   "source": [
    "# Line plots \n",
    "lag = 9\n",
    "idx_name = 'nino4'\n",
    "scores = ['rmsess', 'crpss']\n",
    "score_label = dict(rmsess=rf'RMSESS ({idx_name})',\n",
    "                   crpss=rf'CRPSS ({idx_name})',\n",
    "                   corr=rf'ACC ({idx_name})')\n",
    "ncols = len(scores)\n",
    "\n",
    "\n",
    "fig, axs = plt.subplots(1, ncols, figsize=(8, 3),\n",
    "                        sharex=True, sharey=True)\n",
    "\n",
    "for i, score_name in enumerate(scores):\n",
    "    ax = axs[i] if ncols>1 else axs\n",
    "    for j, (exp_name, exp_scores) in enumerate(nino_scores.items()):\n",
    "        if score_name not in exp_scores.keys():\n",
    "            continue\n",
    "        score = exp_scores[score_name][idx_name].sel(lag=lag)\n",
    "        exp = get_model_specs_by_name(experiments, exp_name)\n",
    "        clr = exp['color'] if 'color' in exp else None\n",
    "        ax.plot(score['ndata'], score.values, color=clr, \n",
    "                marker='o', linestyle='-',\n",
    "                label=exp_name, )\n",
    "    \n",
    "    ax.axhline(0, color='k', linestyle='--', label='climatology')    \n",
    "    if i == 0:\n",
    "        ax.legend(loc='lower right', fontsize='small')\n",
    "        \n",
    "    ax.tick_params(axis='y', labelsize='small')\n",
    "    ax.set_ylabel(f'{score_label[score_name]}')\n",
    "\n",
    "    ax.set_xscale('log')\n",
    "    ax.set_xticks(score['ndata'].values)\n",
    "    ax.set_xticklabels(score['ndata'].values//12, fontsize='small', rotation=45)\n",
    "    ax.set_xlabel(\"Number of training years\")\n",
    "\n",
    "#gpl.enumerate_axes(axs, pos_x=0.02, pos_y=.97, fontsize=\"medium\")\n",
    "\n",
    "#plt.savefig(f\"../../output/paperplots/number_trainingdata.jpg\", dpi=1000, bbox_inches=\"tight\")\n"
   ]
  },
  {
   "cell_type": "markdown",
   "metadata": {},
   "source": [
    "## Lag time (ACC >0.5) over number of training data "
   ]
  },
  {
   "cell_type": "code",
   "execution_count": null,
   "metadata": {},
   "outputs": [],
   "source": [
    "idx_name = 'nino4'\n",
    "ss_threshold = 0.6\n",
    "score_name = 'cc'\n",
    "score_label = dict(rmse_skill=rf'RMSESS',\n",
    "                   crpss=rf'CRPSS',\n",
    "                   cc=rf'ACC')\n",
    "\n",
    "fig, ax = plt.subplots(1, 1, figsize=(7, 3.2))\n",
    "for i, (exp_name, exp_scores) in enumerate(nino_scores.items()):\n",
    "    if score_name not in exp_scores.keys():\n",
    "        continue\n",
    "    score = exp_scores[score_name][idx_name]\n",
    "\n",
    "    # Calculate tau_max\n",
    "    tau_max = np.zeros(len(score['ndata']))\n",
    "    for n, ndata in enumerate(score['ndata']):\n",
    "        buff = score.sel(ndata=ndata)\n",
    "        try:\n",
    "            tau_max[n] = buff.where(buff>=ss_threshold, drop=True)['lag'].max() \n",
    "        except:\n",
    "            tau_max[n] = np.nan\n",
    "\n",
    "    tau_max = xr.DataArray(tau_max, coords={'ndata': score['ndata']})\n",
    "\n",
    "    # Experiment properties\n",
    "    exp = get_model_specs_by_name(experiments, exp_name)\n",
    "    clr = exp['color'] if 'color' in exp else None\n",
    "\n",
    "    ax.plot(tau_max['ndata'], tau_max, label=exp_name, \n",
    "            color=clr) \n",
    "\n",
    "# Axis\n",
    "ax.tick_params(axis='y', labelsize='small')\n",
    "ax.set_ylabel(r\"$\\tau_{max}$\" + f\" ({score_label[score_name]}>{ss_threshold}) [month]\")\n",
    "ax.set_yticks(score['lag'])\n",
    "ax.set_ylim([0, 20])\n",
    "\n",
    "ax.set_xlim([45*12, 1700*12])\n",
    "ax.set_xscale('log')\n",
    "ax.set_xticks(score['ndata'].values)\n",
    "ax.set_xticklabels(score['ndata'].values//12, fontsize='small')\n",
    "ax.set_xlabel(\"Number of training years\")\n",
    "\n",
    "# Legend\n",
    "ax.legend(fontsize='medium', loc='lower right')\n",
    "\n",
    "ax.axvline(70*12, color='k', linestyle='--')\n",
    "ax.axvline(150*12, color='k', linestyle='--')\n",
    "ax.axvline(1500*12, color='k', linestyle='--')\n",
    "\n",
    "#gpl.enumerate_axes(axs, pos_x=0.02, pos_y=.97, fontsize=\"medium\")\n",
    "\n"
   ]
  }
 ],
 "metadata": {
  "kernelspec": {
   "display_name": "Python 3.9.13 ('vaeenv')",
   "language": "python",
   "name": "python3"
  },
  "language_info": {
   "codemirror_mode": {
    "name": "ipython",
    "version": 3
   },
   "file_extension": ".py",
   "mimetype": "text/x-python",
   "name": "python",
   "nbconvert_exporter": "python",
   "pygments_lexer": "ipython3",
   "version": "3.11.8"
  },
  "orig_nbformat": 4,
  "vscode": {
   "interpreter": {
    "hash": "cd1f84a93514db3fb3689a6c2d4c248cfb632ba5f8c260d8b9cf936021326503"
   }
  }
 },
 "nbformat": 4,
 "nbformat_minor": 2
}
