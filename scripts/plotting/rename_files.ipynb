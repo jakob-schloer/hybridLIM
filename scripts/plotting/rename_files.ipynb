{
 "cells": [
  {
   "cell_type": "code",
   "execution_count": 4,
   "metadata": {},
   "outputs": [],
   "source": [
    "import os\n",
    "import re\n",
    "import yaml\n",
    "\n",
    "def get_model_specs_by_name(experiments, exp_name):\n",
    "    for exp in experiments:\n",
    "        if exp['name'] == exp_name:\n",
    "            return exp \n",
    "    raise ValueError(f\"Experiment {exp_name} not found\")\n",
    "    return None\n",
    "\n",
    "def rename_files(directory, old_pattern, new_pattern):\n",
    "    # Create a regular expression pattern for matching files\n",
    "    regex = re.compile(rf\"^(.*){old_pattern}$\")\n",
    "    \n",
    "    counter = 0\n",
    "    for filename in os.listdir(directory):\n",
    "        # Check if the filename matches the old pattern\n",
    "        match = regex.match(filename)\n",
    "        if match:\n",
    "            # Extract the base filename before the old pattern\n",
    "            base_name = match.group(1)\n",
    "            # Construct the new filename with the new pattern\n",
    "            new_filename = f\"{base_name}{new_pattern}\"\n",
    "            # Rename the file\n",
    "            old_path = os.path.join(directory, filename)\n",
    "            new_path = os.path.join(directory, new_filename)\n",
    "            os.rename(old_path, new_path)\n",
    "            print(f\"Renamed: {filename} -> {new_filename}\")\n",
    "            counter += 1\n",
    "    \n",
    "    print(f\"Renamed {counter} files in {directory}\")\n",
    "    return None   \n",
    "\n",
    "\n"
   ]
  },
  {
   "cell_type": "code",
   "execution_count": 7,
   "metadata": {},
   "outputs": [],
   "source": [
    "old_pattern = \"_1801-2001.nc\"  # The old pattern to match\n",
    "new_pattern = \"_test.nc\"  # The new pattern to replace with\n",
    "with open('./experiments.yaml', 'r') as file:\n",
    "        experiments = yaml.safe_load(file)\n"
   ]
  },
  {
   "cell_type": "code",
   "execution_count": 8,
   "metadata": {},
   "outputs": [
    {
     "name": "stdout",
     "output_type": "stream",
     "text": [
      "Renamed 0 files in /home/ecm1922/Code/hybridLIM/models/lim/cslim_ssta-ssha/metrics\n",
      "Renamed 0 files in /home/ecm1922/Code/hybridLIM/models/lim/cslim_ssta-ssha/num_traindata/n_600/metrics\n",
      "Renamed 0 files in /home/ecm1922/Code/hybridLIM/models/lim/cslim_ssta-ssha/num_traindata/n_1200/metrics\n",
      "Renamed 0 files in /home/ecm1922/Code/hybridLIM/models/lim/cslim_ssta-ssha/num_traindata/n_2400/metrics\n",
      "Renamed 0 files in /home/ecm1922/Code/hybridLIM/models/lim/cslim_ssta-ssha/num_traindata/n_3600/metrics\n",
      "Renamed 0 files in /home/ecm1922/Code/hybridLIM/models/lim/cslim_ssta-ssha/num_traindata/n_6000/metrics\n",
      "Renamed 0 files in /home/ecm1922/Code/hybridLIM/models/lim/cslim_ssta-ssha/num_traindata/n_9000/metrics\n",
      "Renamed 0 files in /home/ecm1922/Code/hybridLIM/models/lim/cslim_ssta-ssha/num_traindata/n_12000/metrics\n",
      "Renamed 0 files in /home/ecm1922/Code/hybridLIM/models/lim/cslim_ssta-ssha/num_traindata/n_18000/metrics\n",
      "Renamed 0 files in /home/ecm1922/Code/hybridLIM/models/limlstm/30237852_LIM-LSTM_ssta_n20_ssha_n10_g0.65-crps_member16_nhoriz_20_layers_2_latent32_cosinelr0.001-1e-06_bs64/metrics\n",
      "Renamed 0 files in /home/ecm1922/Code/hybridLIM/models/limlstm/num_traindata/ntrain_600/30237855_LIM-LSTM_ssta_n20_ssha_n10_g0.65-crps_member16_nhoriz_20_layers_2_latent32_cosinelr0.001-1e-06_bs64_ntrain_600/metrics\n",
      "Renamed 0 files in /home/ecm1922/Code/hybridLIM/models/limlstm/num_traindata/ntrain_1200/30237857_LIM-LSTM_ssta_n20_ssha_n10_g0.65-crps_member16_nhoriz_20_layers_2_latent32_cosinelr0.001-1e-06_bs64_ntrain_1200/metrics\n",
      "Renamed 0 files in /home/ecm1922/Code/hybridLIM/models/limlstm/num_traindata/ntrain_2400/30237858_LIM-LSTM_ssta_n20_ssha_n10_g0.65-crps_member16_nhoriz_20_layers_2_latent32_cosinelr0.001-1e-06_bs64_ntrain_2400/metrics\n",
      "Renamed 0 files in /home/ecm1922/Code/hybridLIM/models/limlstm/num_traindata/ntrain_3600/30237859_LIM-LSTM_ssta_n20_ssha_n10_g0.65-crps_member16_nhoriz_20_layers_2_latent32_cosinelr0.001-1e-06_bs64_ntrain_3600/metrics\n",
      "Renamed 0 files in /home/ecm1922/Code/hybridLIM/models/limlstm/num_traindata/ntrain_6000/30237860_LIM-LSTM_ssta_n20_ssha_n10_g0.65-crps_member16_nhoriz_20_layers_2_latent32_cosinelr0.001-1e-06_bs64_ntrain_6000/metrics\n",
      "Renamed 0 files in /home/ecm1922/Code/hybridLIM/models/limlstm/num_traindata/ntrain_9000/30237861_LIM-LSTM_ssta_n20_ssha_n10_g0.65-crps_member16_nhoriz_20_layers_2_latent32_cosinelr0.001-1e-06_bs64_ntrain_9000/metrics\n",
      "Renamed 0 files in /home/ecm1922/Code/hybridLIM/models/limlstm/num_traindata/ntrain_12000/30237862_LIM-LSTM_ssta_n20_ssha_n10_g0.65-crps_member16_nhoriz_20_layers_2_latent32_cosinelr0.001-1e-06_bs64_ntrain_12000/metrics\n",
      "Renamed 0 files in /home/ecm1922/Code/hybridLIM/models/limlstm/num_traindata/ntrain_18000/30237863_LIM-LSTM_ssta_n20_ssha_n10_g0.65-crps_member16_nhoriz_20_layers_2_latent32_cosinelr0.001-1e-06_bs64_ntrain_18000/metrics\n",
      "Renamed: gridscore_cc_1801-2001.nc -> gridscore_cc_test.nc\n",
      "Renamed: gridscore_crps_1801-2001.nc -> gridscore_crps_test.nc\n",
      "Renamed: gridscore_crpss_1801-2001.nc -> gridscore_crpss_test.nc\n",
      "Renamed: gridscore_mse_1801-2001.nc -> gridscore_mse_test.nc\n",
      "Renamed: gridscore_rmsess_1801-2001.nc -> gridscore_rmsess_test.nc\n",
      "Renamed: gridscore_spread_1801-2001.nc -> gridscore_spread_test.nc\n",
      "Renamed: gridscore_spread_skill_1801-2001.nc -> gridscore_spread_skill_test.nc\n",
      "Renamed: nino_frcst_1801-2001.nc -> nino_frcst_test.nc\n",
      "Renamed: nino_target_1801-2001.nc -> nino_target_test.nc\n",
      "Renamed: timescore_cc_1801-2001.nc -> timescore_cc_test.nc\n",
      "Renamed: timescore_crps_1801-2001.nc -> timescore_crps_test.nc\n",
      "Renamed: timescore_crpss_1801-2001.nc -> timescore_crpss_test.nc\n",
      "Renamed: timescore_mse_1801-2001.nc -> timescore_mse_test.nc\n",
      "Renamed: timescore_rmsess_1801-2001.nc -> timescore_rmsess_test.nc\n",
      "Renamed: timescore_spread_1801-2001.nc -> timescore_spread_test.nc\n",
      "Renamed: timescore_spread_skill_1801-2001.nc -> timescore_spread_skill_test.nc\n",
      "Renamed 16 files in /home/ecm1922/Code/hybridLIM/models/lstm/598257_CSLSTM_eof_20-10ssta_n20_ssha_n10_g0.65-crps_member16_nhist_12_nhoriz_20_layers_2_latent32_cosinelr0.005-5e-06_bs64/metrics\n",
      "Renamed 0 files in /home/ecm1922/Code/hybridLIM/models/lstm/num_traindata/ntrain_600/598258_CSLSTM_eof_20-10ssta_n20_ssha_n10_g0.65-crps_member16_nhist_12_nhoriz_20_layers_2_latent32_cosinelr0.005-5e-06_bs64_ntrain_600/metrics\n",
      "Renamed 0 files in /home/ecm1922/Code/hybridLIM/models/lstm/num_traindata/ntrain_1200/598259_CSLSTM_eof_20-10ssta_n20_ssha_n10_g0.65-crps_member16_nhist_12_nhoriz_20_layers_2_latent32_cosinelr0.005-5e-06_bs64_ntrain_1200/metrics\n",
      "Renamed 0 files in /home/ecm1922/Code/hybridLIM/models/lstm/num_traindata/ntrain_2400/598260_CSLSTM_eof_20-10ssta_n20_ssha_n10_g0.65-crps_member16_nhist_12_nhoriz_20_layers_2_latent32_cosinelr0.005-5e-06_bs64_ntrain_2400/metrics\n",
      "Renamed 0 files in /home/ecm1922/Code/hybridLIM/models/lstm/num_traindata/ntrain_3600/598261_CSLSTM_eof_20-10ssta_n20_ssha_n10_g0.65-crps_member16_nhist_12_nhoriz_20_layers_2_latent32_cosinelr0.005-5e-06_bs64_ntrain_3600/metrics\n",
      "Renamed 0 files in /home/ecm1922/Code/hybridLIM/models/lstm/num_traindata/ntrain_6000/598262_CSLSTM_eof_20-10ssta_n20_ssha_n10_g0.65-crps_member16_nhist_12_nhoriz_20_layers_2_latent32_cosinelr0.005-5e-06_bs64_ntrain_6000/metrics\n",
      "Renamed 0 files in /home/ecm1922/Code/hybridLIM/models/lstm/num_traindata/ntrain_9000/598263_CSLSTM_eof_20-10ssta_n20_ssha_n10_g0.65-crps_member16_nhist_12_nhoriz_20_layers_2_latent32_cosinelr0.005-5e-06_bs64_ntrain_9000/metrics\n",
      "Renamed 0 files in /home/ecm1922/Code/hybridLIM/models/lstm/num_traindata/ntrain_12000/598264_CSLSTM_eof_20-10ssta_n20_ssha_n10_g0.65-crps_member16_nhist_12_nhoriz_20_layers_2_latent32_cosinelr0.005-5e-06_bs64_ntrain_12000/metrics\n",
      "Renamed 0 files in /home/ecm1922/Code/hybridLIM/models/lstm/num_traindata/ntrain_18000/598265_CSLSTM_eof_20-10ssta_n20_ssha_n10_g0.65-crps_member16_nhist_12_nhoriz_20_layers_2_latent32_cosinelr0.005-5e-06_bs64_ntrain_18000/metrics\n",
      "Renamed 0 files in /home/ecm1922/Code/hybridLIM/models/convlstm/30458451_ConvLSTM_ssta_ssha_g0.65-crps_member16_nhist_12_nhoriz_20_layers_2_ch256_cosinelr0.008-1e-06_bs32/metrics\n",
      "Renamed 0 files in /home/ecm1922/Code/hybridLIM/models/convlstm/num_traindata/ntrain_600/30458452_ConvLSTM_ssta_ssha_g0.65-crps_member16_nhist_12_nhoriz_20_layers_2_ch256_cosinelr0.008-1e-06_bs32_ntrain_600/metrics\n",
      "Renamed 0 files in /home/ecm1922/Code/hybridLIM/models/convlstm/num_traindata/ntrain_1200/30458454_ConvLSTM_ssta_ssha_g0.65-crps_member16_nhist_12_nhoriz_20_layers_2_ch256_cosinelr0.008-1e-06_bs32_ntrain_1200/metrics\n",
      "Renamed 0 files in /home/ecm1922/Code/hybridLIM/models/convlstm/num_traindata/ntrain_2400/30458455_ConvLSTM_ssta_ssha_g0.65-crps_member16_nhist_12_nhoriz_20_layers_2_ch256_cosinelr0.008-1e-06_bs32_ntrain_2400/metrics\n",
      "Renamed 0 files in /home/ecm1922/Code/hybridLIM/models/convlstm/num_traindata/ntrain_3600/30458457_ConvLSTM_ssta_ssha_g0.65-crps_member16_nhist_12_nhoriz_20_layers_2_ch256_cosinelr0.008-1e-06_bs32_ntrain_3600/metrics\n",
      "Renamed 0 files in /home/ecm1922/Code/hybridLIM/models/convlstm/num_traindata/ntrain_6000/30458462_ConvLSTM_ssta_ssha_g0.65-crps_member16_nhist_12_nhoriz_20_layers_2_ch256_cosinelr0.008-1e-06_bs32_ntrain_6000/metrics\n",
      "Renamed 0 files in /home/ecm1922/Code/hybridLIM/models/convlstm/num_traindata/ntrain_9000/30458463_ConvLSTM_ssta_ssha_g0.65-crps_member16_nhist_12_nhoriz_20_layers_2_ch256_cosinelr0.008-1e-06_bs32_ntrain_9000/metrics\n",
      "Renamed 0 files in /home/ecm1922/Code/hybridLIM/models/convlstm/num_traindata/ntrain_12000/30458466_ConvLSTM_ssta_ssha_g0.65-crps_member16_nhist_12_nhoriz_20_layers_2_ch256_cosinelr0.008-1e-06_bs32_ntrain_12000/metrics\n",
      "Renamed 0 files in /home/ecm1922/Code/hybridLIM/models/convlstm/num_traindata/ntrain_18000/30458472_ConvLSTM_ssta_ssha_g0.65-crps_member16_nhist_12_nhoriz_20_layers_2_ch256_cosinelr0.008-1e-06_bs32_ntrain_18000/metrics\n"
     ]
    }
   ],
   "source": [
    "for exp in experiments:\n",
    "    path = os.path.join(exp['paths'][0], \"metrics\")\n",
    "    rename_files(path, old_pattern, new_pattern)"
   ]
  },
  {
   "cell_type": "code",
   "execution_count": null,
   "metadata": {},
   "outputs": [],
   "source": []
  }
 ],
 "metadata": {
  "kernelspec": {
   "display_name": ".venv",
   "language": "python",
   "name": "python3"
  },
  "language_info": {
   "codemirror_mode": {
    "name": "ipython",
    "version": 3
   },
   "file_extension": ".py",
   "mimetype": "text/x-python",
   "name": "python",
   "nbconvert_exporter": "python",
   "pygments_lexer": "ipython3",
   "version": "3.11.8"
  }
 },
 "nbformat": 4,
 "nbformat_minor": 2
}
