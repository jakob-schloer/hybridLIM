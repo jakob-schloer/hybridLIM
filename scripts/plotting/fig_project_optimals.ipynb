{
 "cells": [
  {
   "cell_type": "markdown",
   "metadata": {},
   "source": [
    "# Windows of oportunities from initial conditions of optimal growth"
   ]
  },
  {
   "cell_type": "code",
   "execution_count": null,
   "metadata": {},
   "outputs": [],
   "source": [
    "import yaml\n",
    "import numpy as np\n",
    "import xarray as xr\n",
    "import pandas as pd\n",
    "import matplotlib.pyplot as plt\n",
    "import cartopy as ctp\n",
    "from importlib import reload\n",
    "import hyblim.geoplot as gpl\n",
    "from hyblim.data import preproc, eof\n",
    "from hyblim.utils import metric, enso\n",
    "\n",
    "plt.style.use(\"../../paper.mplstyle\")\n",
    "\n",
    "def get_model_specs_by_name(experiments, exp_name):\n",
    "    for exp in experiments:\n",
    "        if exp['name'] == exp_name:\n",
    "            return exp \n",
    "    return None\n",
    "\n",
    "# Load list of experiments\n",
    "with open(\"experiments.yaml\", \"r\") as f:\n",
    "    config = yaml.safe_load(f)\n",
    "    experiments = config['experiments']"
   ]
  },
  {
   "cell_type": "markdown",
   "metadata": {},
   "source": [
    "## Load data"
   ]
  },
  {
   "cell_type": "code",
   "execution_count": null,
   "metadata": {},
   "outputs": [],
   "source": [
    "datapaths = {}\n",
    "datapaths['ssta'] = \"../../data/cesm2-picontrol/b.e21.B1850.f09_g17.CMIP6-piControl.001.pop.h.ssta_lat-31_33_lon130_290_gr1.0.nc\"\n",
    "datapaths['ssha'] = \"../../data/cesm2-picontrol/b.e21.B1850.f09_g17.CMIP6-piControl.001.pop.h.ssha_lat-31_33_lon130_290_gr1.0.nc\"\n",
    "\n",
    "da_arr, normalizer = [], {}\n",
    "for var, path in datapaths.items():\n",
    "    da = xr.open_dataset(path)[var]\n",
    "    # Normalize data \n",
    "    normalizer_var = preproc.Normalizer()\n",
    "    da = normalizer_var.fit_transform(da)\n",
    "    # Store normalizer as an attribute in the Dataarray for the inverse transformation\n",
    "    da.attrs = normalizer_var.to_dict()\n",
    "    da_arr.append(da)\n",
    "    normalizer[var] = normalizer_var\n",
    "\n",
    "ds = xr.merge(da_arr)\n",
    "\n",
    "# Apply land sea mask\n",
    "lsm = xr.open_dataset(\"../../data/land_sea_mask_common.nc\")['lsm']\n",
    "ds = ds.where(lsm!=1, other=np.nan)\n",
    "\n",
    "nino_indices = enso.get_nino_indices(ds['ssta'])"
   ]
  },
  {
   "cell_type": "code",
   "execution_count": null,
   "metadata": {},
   "outputs": [],
   "source": [
    "# Create PCA\n",
    "n_eof = [20,10]\n",
    "eofa_lst = []\n",
    "for i, var in enumerate(ds.data_vars):\n",
    "    print(f\"Create EOF of {var}!\")\n",
    "    n_components = n_eof[i] if isinstance(n_eof, list) else n_eof \n",
    "    eofa = eof.EmpiricalOrthogonalFunctionAnalysis(n_components)\n",
    "    eofa.fit(\n",
    "        ds[var].isel(time=slice(None, int(0.8*len(ds['time']))))\n",
    "    )\n",
    "    eofa_lst.append(eofa)\n",
    "combined_eof = eof.CombinedEOF(eofa_lst, vars=list(ds.data_vars))"
   ]
  },
  {
   "cell_type": "code",
   "execution_count": null,
   "metadata": {},
   "outputs": [],
   "source": [
    "# Split in training and test data\n",
    "train_period = (0, int(0.8*len(ds['time'])))\n",
    "val_period = (int(0.8*len(ds['time'])), int(0.9*len(ds['time'])))\n",
    "test_period = ( int(0.9*len(ds['time'])), len(ds['time']) ) \n",
    "\n",
    "data = dict(\n",
    "    train = combined_eof.transform(ds.isel(time=slice(*train_period))),\n",
    "    val = combined_eof.transform(ds.isel(time=slice(*val_period))),\n",
    "    test = combined_eof.transform(ds.isel(time=slice(*test_period))),\n",
    ")"
   ]
  },
  {
   "cell_type": "markdown",
   "metadata": {},
   "source": [
    "## Load opitimal initial patterns and their evolution"
   ]
  },
  {
   "cell_type": "code",
   "execution_count": null,
   "metadata": {},
   "outputs": [],
   "source": [
    "optimal_init_pc = xr.open_dataarray(\"../../models/lim/cslim_ssta-ssha/metrics/optimal_init_pc.nc\")\n",
    "optimal_evolved_pc = xr.open_dataarray(\"../../models/lim/cslim_ssta-ssha/metrics/optimal_evolved_pc.nc\")\n",
    "optimal_init_map = xr.open_dataset(\"../../models/lim/cslim_ssta-ssha/metrics/optimal_init_map.nc\")\n",
    "optimal_evolved_map = xr.open_dataset(\"../../models/lim/cslim_ssta-ssha/metrics/optimal_evolved_map.nc\")\n",
    "optimal_init_map = -1* optimal_init_map / optimal_init_map.std()\n",
    "optimal_evolved_map = -1* optimal_evolved_map / optimal_evolved_map.std()"
   ]
  },
  {
   "cell_type": "markdown",
   "metadata": {},
   "source": [
    "### Plot initial conditions"
   ]
  },
  {
   "cell_type": "code",
   "execution_count": null,
   "metadata": {},
   "outputs": [],
   "source": [
    "init_month, tau = 4, 12\n",
    "pltargs = {'ssta': dict(vmin=-3, vmax=3, eps=0.5, cmap='RdBu_r', centercolor='white'),\n",
    "           'ssha': dict(kwargs_pl={'colors':'k', 'levels' :[-2.5, -1.25, 1.25, 2.5], \n",
    "                            'linewidths': 1}, zerolinecolor=None, add_inline_labels=False)}\n",
    "# Optimal initial pattern\n",
    "fig = plt.figure(figsize=(6, 8))\n",
    "ax = fig.add_subplot(2,1,1, projection=ctp.crs.PlateCarree(central_longitude=180))\n",
    "im = gpl.plot_map(optimal_init_map['ssta'].sel(month=init_month, lag=tau), ax=ax, \n",
    "                  **pltargs['ssta'], add_bar=False,\n",
    "                  kwargs_cb=dict(label=\"Optimal initial\", orientation='horizontal')\n",
    ")\n",
    "im2 = gpl.plot_contour(optimal_init_map['ssha'].sel(month=init_month, lag=tau), ax=ax,\n",
    "                       **pltargs['ssha'], kwargs_labels=dict(fmt='%.2f'))\n",
    "#ax.set_title(\"Optimal initial\")\n",
    "im['gl'].bottom_labels = False\n",
    "im2['gl'].bottom_labels = False\n",
    "\n",
    "# Optimal evolved pattern\n",
    "ax = fig.add_subplot(2,1,2, projection=ctp.crs.PlateCarree(central_longitude=180))\n",
    "im = gpl.plot_map(optimal_evolved_map['ssta'].sel(month=init_month, lag=tau), ax=ax, \n",
    "                  **pltargs['ssta'], add_bar=False,\n",
    "                  kwargs_cb=dict(label=\"Evolved optimal initial\", orientation='horizontal')\n",
    ")\n",
    "im2 = gpl.plot_contour(optimal_evolved_map['ssha'].sel(month=init_month, lag=tau), ax=ax,\n",
    "                       **pltargs['ssha'],\n",
    "                       kwargs_labels=dict(fmt='%.2f'))"
   ]
  },
  {
   "cell_type": "markdown",
   "metadata": {},
   "source": [
    "## Project initial conditions on data"
   ]
  },
  {
   "cell_type": "code",
   "execution_count": null,
   "metadata": {},
   "outputs": [],
   "source": [
    "tau = 18\n",
    "init_month = 5\n",
    "percentiles = [95, 100]\n",
    "nino34 = nino_indices['nino34'].sel(time=data['train'].time)\n",
    "\n",
    "\n",
    "# Select initial dates\n",
    "idx_init_times = np.argwhere(\n",
    "    (data['train']['time'].dt.month.values == init_month)\n",
    "    & (nino34.values >= 0.8)\n",
    ").flatten()[:-tau]\n",
    "z_init = data['train'].isel(time=idx_init_times)\n",
    "z_target = data['train'].isel(time=idx_init_times + tau)\n",
    "\n",
    "# Project optimal initial and evolved patterns onto the data \n",
    "opt_init = optimal_init_pc.sel(month=init_month, lag=tau)\n",
    "opt_evolved = optimal_evolved_pc.sel(month=init_month, lag=tau)\n",
    "\n",
    "proj_data_opt_init = xr.DataArray(data=opt_init.data @ z_init.data.T, \n",
    "                                  coords=dict(time=z_init['time'].data))\n",
    "proj_data_opt_evolved = xr.DataArray(data=opt_evolved.data @ z_target.data.T, \n",
    "                                     coords=dict(time=z_init['time'].data))\n",
    "    \n",
    "# Select percentilse\n",
    "proj_data_opt_init = np.abs(proj_data_opt_init)\n",
    "idx_init_dates = np.where(\n",
    "    (proj_data_opt_init.data >= np.percentile(proj_data_opt_init, percentiles[0]))\n",
    "    & (proj_data_opt_init.data <= np.percentile(proj_data_opt_init, percentiles[1]))\n",
    ")[0]\n",
    "init_dates = proj_data_opt_init['time'].data[idx_init_dates]\n",
    "print(f\"Number of initial dates: {len(init_dates)}\")"
   ]
  },
  {
   "cell_type": "code",
   "execution_count": null,
   "metadata": {},
   "outputs": [],
   "source": [
    "max_lag = 12\n",
    "nino34 = nino_indices['nino34']\n",
    "nino34_evolution = [] \n",
    "for start_date in init_dates:\n",
    "    end_date = preproc.add_to_cftime([start_date], n_month=max_lag-1)[0]\n",
    "    evolution = nino34.sel(time=slice(start_date, end_date))\n",
    "    evolution = evolution.rename({'time': 'lag'})\n",
    "    evolution['lag'] = np.arange(0, max_lag)\n",
    "    nino34_evolution.append(evolution)\n",
    "trajectories = xr.concat(nino34_evolution, dim=pd.Index(init_dates, name='init_time'))"
   ]
  },
  {
   "cell_type": "code",
   "execution_count": null,
   "metadata": {},
   "outputs": [],
   "source": [
    "fig, ax = plt.subplots(figsize=(6, 4))\n",
    "for init_time in trajectories['init_time']:\n",
    "    ax.plot(trajectories.sel(init_time=init_time)['lag'], trajectories.sel(init_time=init_time), color='blue', linewidth=0.3, alpha=0.3)\n",
    "pl = ax.plot(trajectories['lag'], trajectories.mean(dim='init_time'), color='darkblue', linewidth=2, label=f\"{percentiles[0]}-{percentiles[1]}th percentile\")\n",
    "ax.fill_between(trajectories['lag'], trajectories.mean(dim='init_time')-trajectories.std(dim='init_time'), trajectories.mean(dim='init_time')+trajectories.std(dim='init_time'),\n",
    "                color=pl[0].get_color(), alpha=0.2)\n",
    "\n",
    "ax.set_ylim(-6, 6)\n",
    "ax.set_xlim(0, 13)\n",
    "ax.axhline(0, color='black', linestyle='--', linewidth=0.5)\n",
    "ax.set_xlabel(\"Lag (months)\")\n",
    "ax.set_ylabel(\"Nino3.4 index\")\n",
    "ax.legend(loc=1)"
   ]
  },
  {
   "cell_type": "markdown",
   "metadata": {},
   "source": [
    "## Load metrics from experiments and compute high/low skill cases"
   ]
  },
  {
   "cell_type": "code",
   "execution_count": null,
   "metadata": {},
   "outputs": [],
   "source": [
    "load_experiments = ['LIM', 'LSTM', 'LIM+LSTM']\n",
    "datasplit = 'test'\n",
    "score_name = 'spread_skill'\n",
    "\n",
    "scores = {}\n",
    "for exp_name in load_experiments:\n",
    "    exp = get_model_specs_by_name(experiments, f\"{exp_name} (n18000)\")\n",
    "    if exp is None:\n",
    "        print(f\"Experiment {exp_name} not found\")\n",
    "        continue\n",
    "    scores[exp_name] = xr.open_dataset(exp['paths'][0] + f'/metrics/timescore_{score_name}_{datasplit}.nc')"
   ]
  },
  {
   "cell_type": "markdown",
   "metadata": {},
   "source": [
    "Select initial condition based on the percentile of their projection on the optimal pattern"
   ]
  },
  {
   "cell_type": "code",
   "execution_count": null,
   "metadata": {},
   "outputs": [],
   "source": [
    "def project_on_optimal_initial_pc(z, optimal_init_pc, init_month, tau):\n",
    "    \"\"\" Project the data on the optimal initial pattern.\"\"\"\n",
    "    # Select initial dates\n",
    "    idx_init_times = np.argwhere(\n",
    "        (z.time.dt.month.values == init_month)\n",
    "    ).flatten()[:-tau]\n",
    "    z_init = z.isel(time=idx_init_times)\n",
    "\n",
    "    # Project optimal initial and evolved patterns onto the data \n",
    "    opt_init = optimal_init_pc.sel(month=init_month, lag=tau)\n",
    "\n",
    "    projection = xr.DataArray(data=opt_init.data @ z_init.data.T, \n",
    "                                     coords=dict(time=z_init['time'].data))\n",
    "    return projection "
   ]
  },
  {
   "cell_type": "code",
   "execution_count": null,
   "metadata": {},
   "outputs": [],
   "source": [
    "percentiles = ['lower', 'upper']\n",
    "percentile_range = [[0, 10], [90, 100]]\n",
    "\n",
    "\n",
    "scores_perc = {}\n",
    "for exp_name, score in scores.items():\n",
    "    print(f\"Compute percentile score of {exp_name}!\")\n",
    "\n",
    "    # Loop over lags\n",
    "    score_lag_arr = []\n",
    "    for tau in score['lag'].values:\n",
    "        # Loop over initial months\n",
    "        score_month_arr = []\n",
    "        for init_month in optimal_init_pc['month'].data:\n",
    "            # Get optimal initial dates\n",
    "            z = data[datasplit]\n",
    "            proj_opt_init = project_on_optimal_initial_pc(z, optimal_init_pc, init_month, tau)\n",
    "            proj_opt_init = np.abs(proj_opt_init)\n",
    "\n",
    "            # Loop over percentiles\n",
    "            score_perc = []\n",
    "            for (pmin, pmax) in percentile_range:\n",
    "                idx = np.where(\n",
    "                    (proj_opt_init.data >= np.percentile(proj_opt_init, pmin))\n",
    "                    & (proj_opt_init.data <= np.percentile(proj_opt_init, pmax))\n",
    "                )[0]\n",
    "                target_dates = preproc.add_to_cftime(proj_opt_init.time[idx].values, n_month=tau)\n",
    "                target_dates = np.intersect1d(target_dates,\n",
    "                                            score.time.values)\n",
    "\n",
    "                score_perc.append(\n",
    "                    score.sel(time=target_dates, lag=tau).mean('time')\n",
    "                )\n",
    "            score_month_arr.append(\n",
    "                xr.concat(score_perc, dim=pd.Index(percentiles, name='percentile'))\n",
    "            )\n",
    "        score_lag_arr.append(\n",
    "                xr.concat(score_month_arr, dim=pd.Index(optimal_init_pc['month'].data, name='init_month'))\n",
    "        )\n",
    "    scores_perc[f\"{exp_name}\"] = xr.concat(score_lag_arr, dim=pd.Index(score['lag'].data, name='lag'))"
   ]
  },
  {
   "cell_type": "code",
   "execution_count": null,
   "metadata": {},
   "outputs": [],
   "source": [
    "# Average score\n",
    "fig = plt.figure(figsize=(6, 4))\n",
    "ax = fig.add_subplot(1,1,1)\n",
    "for exp_name, score in scores_perc.items():\n",
    "    exp_specs = get_model_specs_by_name(experiments, exp_name)\n",
    "    clr = exp_specs['color']\n",
    "    for i, p in enumerate(score['percentile'].values):\n",
    "        score['ssta'].sel(percentile=p).mean(dim='init_month').plot(\n",
    "            ax=ax, color=clr, label=exp_name if i == 0 else None)\n",
    "\n",
    "ax.set_title(\"\")\n",
    "ax.set_xlabel(r'$\\tau$ [month]')\n",
    "_ = ax.set_xticks(score['lag'])\n",
    "ax.set_ylabel(score_name)\n",
    "ax.axhline(0.5, linestyle='--', color='gray')\n",
    "ax.legend()"
   ]
  },
  {
   "cell_type": "markdown",
   "metadata": {},
   "source": [
    "### Combined plot"
   ]
  },
  {
   "cell_type": "code",
   "execution_count": null,
   "metadata": {},
   "outputs": [],
   "source": [
    "import matplotlib.gridspec as gridspec\n",
    "import matplotlib.lines as mlines\n",
    "reload(gpl)\n",
    "\n",
    "labels = {'lower': '0-10%', 'upper': '90-100%'}\n",
    "proj = ctp.crs.PlateCarree(central_longitude=180)\n",
    "\n",
    "fig = plt.figure(figsize=(7, 3.4))\n",
    "gs = gridspec.GridSpec(3, 2, width_ratios=[3,4], height_ratios=2*[2]+[0.1])\n",
    "axs = []\n",
    "\n",
    "\n",
    "# Plot maps \n",
    "# ======================================================================================\n",
    "init_month, tau = 4, 12\n",
    "pltargs = {'ssta': dict(vmin=-3, vmax=3, eps=0.5, cmap='RdBu_r', centercolor='white'),\n",
    "           'ssha': dict(kwargs_pl={'colors':'k', 'levels' :[-2.5, -1.25, 1.25, 2.5], \n",
    "                            'linewidths': 1}, zerolinecolor=None, add_inline_labels=False)}\n",
    "# Optimal initial pattern\n",
    "ax = fig.add_subplot(gs[0, 0], projection=proj)\n",
    "axs.append(ax)\n",
    "im = gpl.plot_map(optimal_init_map['ssta'].sel(month=init_month, lag=tau), ax=ax, \n",
    "             central_longitude=180, **pltargs['ssta'], add_bar=False,\n",
    "             kwargs_cb=dict(label=\"Optimal initial\", orientation='horizontal')\n",
    ")\n",
    "im2 = gpl.plot_contour(optimal_init_map['ssha'].sel(month=init_month, lag=tau), ax=ax,\n",
    "                       central_longitude=180, **pltargs['ssha'],\n",
    "                       kwargs_labels=dict(fmt='%.2f'))\n",
    "#ax.set_title(\"Optimal initial\")\n",
    "im['gl'].bottom_labels = False\n",
    "im2['gl'].bottom_labels = False\n",
    "\n",
    "# Optimal evolved pattern\n",
    "ax = fig.add_subplot(gs[1, 0], projection=proj)\n",
    "axs.append(ax)\n",
    "im = gpl.plot_map(optimal_evolved_map['ssta'].sel(month=init_month, lag=tau), ax=ax, \n",
    "             central_longitude=180, **pltargs['ssta'], add_bar=False,\n",
    "             kwargs_cb=dict(label=\"Evolved optimal initial\", orientation='horizontal')\n",
    ")\n",
    "im2 = gpl.plot_contour(optimal_evolved_map['ssha'].sel(month=init_month, lag=tau), ax=ax,\n",
    "                       central_longitude=180, **pltargs['ssha'],\n",
    "                       kwargs_labels=dict(fmt='%.2f'))\n",
    "#ax.set_title(\"Evolved optimal\")\n",
    "\n",
    "ax = fig.add_subplot(gs[2, 0])\n",
    "cbar = plt.colorbar(im['im'], cax=ax, orientation='horizontal', label='SSTA [K]')\n",
    "\n",
    "\n",
    "\n",
    "\n",
    "# Average score\n",
    "markers = ['x', 'o']\n",
    "ax = fig.add_subplot(gs[:, 1])\n",
    "axs.append(ax)\n",
    "for exp_name, score in scores_perc.items():\n",
    "    exp_specs = get_model_specs_by_name(experiments, exp_name)\n",
    "    clr = exp_specs['color']\n",
    "    for i, p in enumerate(score['percentile'].values):\n",
    "        score['ssta'].sel(percentile=p).mean(dim='init_month').plot(\n",
    "            ax=ax, color=clr, label=exp_name if i == 0 else None,\n",
    "            marker=markers[i], markersize=4)\n",
    "\n",
    "ax.set_title(\"\")\n",
    "ax.set_xlabel(r'$\\tau$ [month]')\n",
    "_ = ax.set_xticks(score['lag'])\n",
    "ax.set_ylabel(r\"ACC\")\n",
    "ax.set_ylim(0.0, 1.1)\n",
    "ax.axhline(0.5, linestyle='--', color='gray')\n",
    "\n",
    "\n",
    "# Legend\n",
    "lines = []\n",
    "for exp_name, score in scores_perc.items():\n",
    "    exp_specs = get_model_specs_by_name(experiments, exp_name)\n",
    "    lines.append(mlines.Line2D([], [], color=exp_specs['color'], linestyle='-', label=exp_name))\n",
    "lines.append(mlines.Line2D([], [], color='black', marker='o', linestyle='-', label=r'$\\geq 90\\, \\%$'))\n",
    "lines.append(mlines.Line2D([], [], color='black', marker='x', linestyle='-', label=r'$\\leq 10\\, \\%$'))\n",
    "plt.legend(handles=lines, loc=0, fontsize='small')\n",
    "\n",
    "\n",
    "gpl.enumerate_axes(axs, pos_x=0.01, pos_y=[0.98, 0.98, 0.98])"
   ]
  },
  {
   "cell_type": "markdown",
   "metadata": {},
   "source": [
    "### Spread-skill"
   ]
  },
  {
   "cell_type": "code",
   "execution_count": null,
   "metadata": {},
   "outputs": [],
   "source": [
    "load_experiments = ['LIM', 'LSTM', 'LIM+LSTM']\n",
    "datasplit = 'test'\n",
    "\n",
    "fig, ax = plt.subplots(figsize=(6, 4))\n",
    "for exp_name in load_experiments:\n",
    "    exp = get_model_specs_by_name(experiments, f\"{exp_name} (n18000)\")\n",
    "    if exp is None:\n",
    "        print(f\"Experiment {exp_name} not found\")\n",
    "        continue\n",
    "    score = xr.open_dataset(exp['paths'][0] + f'/metrics/timescore_spread_skill_{datasplit}.nc')\n",
    "\n",
    "    score['ssha'].mean(dim='time').plot(ax=ax, label=exp_name)\n",
    "\n",
    "ax.set_ylim(0,None)\n",
    "ax.axhline(1.0, linestyle='--', color='gray')\n",
    "ax.legend()"
   ]
  },
  {
   "cell_type": "code",
   "execution_count": null,
   "metadata": {},
   "outputs": [],
   "source": [
    "load_experiments = ['LIM', 'LSTM', 'LIM+LSTM']\n",
    "datasplit = 'test'\n",
    "\n",
    "spread, skill = {}, {}\n",
    "for exp_name in load_experiments:\n",
    "    exp = get_model_specs_by_name(experiments, f\"{exp_name} (n18000)\")\n",
    "    if exp is None:\n",
    "        print(f\"Experiment {exp_name} not found\")\n",
    "        continue\n",
    "    spread[exp_name] = xr.open_dataset(exp['paths'][0] + f'/metrics/timescore_spread_{datasplit}.nc')\n",
    "    skill[exp_name] = np.sqrt(xr.open_dataset(exp['paths'][0] + f'/metrics/timescore_mse_{datasplit}.nc'))"
   ]
  },
  {
   "cell_type": "code",
   "execution_count": null,
   "metadata": {},
   "outputs": [],
   "source": [
    "import seaborn as sns\n",
    "exp_name = 'LSTM'\n",
    "lag_arr = [6, 12]\n",
    "nrows = len(lag_arr)\n",
    "fig, axs = plt.subplots(1, nrows, figsize=(5*nrows, 3))\n",
    "for i, lag in enumerate(lag_arr):\n",
    "    ax = axs[i]\n",
    "\n",
    "    ax.plot(spread[exp_name]['ssta'].sel(lag=lag), skill[exp_name]['ssta'].sel(lag=lag), '.', markersize=1, color='grey', label=rf\"{exp_name} ($\\tau$={lag})\")\n",
    "    sns.kdeplot(x=spread[exp_name]['ssta'].sel(lag=lag).data, y=skill[exp_name]['ssta'].sel(lag=lag).data, ax=ax,\n",
    "            alpha=0.8, fill=True, cmap='Blues')\n",
    "\n",
    "    ax.legend()\n",
    "    ax.set_xlabel('Spread')\n",
    "    ax.set_ylabel('Skill (RMSE)')\n",
    "    ax.set_ylim(0, 2.2)\n"
   ]
  },
  {
   "cell_type": "markdown",
   "metadata": {},
   "source": [
    "## Nino indices"
   ]
  },
  {
   "cell_type": "code",
   "execution_count": null,
   "metadata": {},
   "outputs": [],
   "source": [
    "load_experiments = ['LIM', 'LSTM', 'LIM+LSTM']\n",
    "datasplit = 'test'\n",
    "\n",
    "nino_scores, nino_scores_month = {}, {}\n",
    "for exp_name in load_experiments:\n",
    "    exp = get_model_specs_by_name(experiments, f\"{exp_name} (n18000)\")\n",
    "    if exp is None:\n",
    "        print(f\"Experiment {exp_name} not found\")\n",
    "        continue\n",
    "    nino_frcst = xr.open_dataset(exp['paths'][0] + '/metrics/nino_frcst_test.nc').transpose('time', 'member', 'lag')\n",
    "    nino_target = xr.open_dataset(exp['paths'][0] + '/metrics/nino_target_test.nc').transpose('time','lag')\n",
    "\n",
    "    nino_scores_exp, nino_scores_exp_month = metric.time_series_score(nino_frcst, nino_target)\n",
    "    nino_scores[exp_name] = nino_scores_exp\n",
    "    nino_scores_month[exp_name] = nino_scores_exp_month"
   ]
  },
  {
   "cell_type": "code",
   "execution_count": null,
   "metadata": {},
   "outputs": [],
   "source": [
    "fig, ax = plt.subplots(figsize=(6, 4))\n",
    "for exp_name, score in nino_scores.items():\n",
    "    score['spread_skill']['nino34'].plot(ax=ax, label=exp_name)\n",
    "ax.legend()"
   ]
  },
  {
   "cell_type": "code",
   "execution_count": null,
   "metadata": {},
   "outputs": [],
   "source": []
  }
 ],
 "metadata": {
  "kernelspec": {
   "display_name": "vaeenv",
   "language": "python",
   "name": "python3"
  },
  "language_info": {
   "codemirror_mode": {
    "name": "ipython",
    "version": 3
   },
   "file_extension": ".py",
   "mimetype": "text/x-python",
   "name": "python",
   "nbconvert_exporter": "python",
   "pygments_lexer": "ipython3",
   "version": "3.11.8"
  }
 },
 "nbformat": 4,
 "nbformat_minor": 2
}
